{
  "nbformat": 4,
  "nbformat_minor": 0,
  "metadata": {
    "colab": {
      "name": "KMeans_Soil_Moisture.ipynb",
      "provenance": []
    },
    "kernelspec": {
      "name": "python3",
      "display_name": "Python 3"
    },
    "language_info": {
      "name": "python"
    }
  },
  "cells": [
    {
      "cell_type": "code",
      "execution_count": null,
      "metadata": {
        "id": "PcSCWEaZSaIP"
      },
      "outputs": [],
      "source": [
        "from sklearn.cluster import KMeans\n",
        "import pandas as pd\n",
        "from sklearn.preprocessing import MinMaxScaler\n",
        "from matplotlib import pyplot as plt\n",
        "%matplotlib inline\n"
      ]
    },
    {
      "cell_type": "code",
      "source": [
        "df = pd.read_csv('/content/sample_data/soilmoisture_dataset.csv')"
      ],
      "metadata": {
        "id": "knA94TDbTRqR"
      },
      "execution_count": null,
      "outputs": []
    },
    {
      "cell_type": "code",
      "source": [
        "df.head()"
      ],
      "metadata": {
        "colab": {
          "base_uri": "https://localhost:8080/",
          "height": 473
        },
        "id": "SECxfXG4ULDv",
        "outputId": "20799af8-c0fb-40e6-9ccf-04363c0938c9"
      },
      "execution_count": null,
      "outputs": [
        {
          "output_type": "execute_result",
          "data": {
            "text/plain": [
              "   index             datetime  soil_moisture  soil_temperature       454  \\\n",
              "0      0  2017-05-23 14:06:17       0.471176          0.405797  0.082131   \n",
              "1      1  2017-05-23 14:08:17       0.470000          0.425121  0.079510   \n",
              "2      2  2017-05-23 14:10:17       0.468235          0.434783  0.080599   \n",
              "3      3  2017-05-23 14:12:17       0.460588          0.415459  0.078024   \n",
              "4      4  2017-05-23 14:14:17       0.460000          0.429952  0.079973   \n",
              "\n",
              "        458       462       466       470       474  ...       914       918  \\\n",
              "0  0.055863  0.050047  0.047925  0.047498  0.046464  ...  0.152845  0.152615   \n",
              "1  0.055326  0.049116  0.047579  0.046745  0.046833  ...  0.152715  0.153102   \n",
              "2  0.054065  0.049150  0.047537  0.046525  0.046032  ...  0.152362  0.152158   \n",
              "3  0.054972  0.049052  0.047920  0.046883  0.046775  ...  0.153281  0.153990   \n",
              "4  0.055335  0.049314  0.047373  0.047028  0.046963  ...  0.152803  0.153085   \n",
              "\n",
              "        922       926       930       934       938       942       946  \\\n",
              "0  0.152927  0.154240  0.155018  0.154725  0.154682  0.154275  0.153477   \n",
              "1  0.153551  0.153590  0.153688  0.153370  0.154021  0.155543  0.156220   \n",
              "2  0.153204  0.153942  0.154610  0.154629  0.155609  0.155545  0.154884   \n",
              "3  0.154499  0.155012  0.154691  0.154643  0.155405  0.155918  0.157645   \n",
              "4  0.153295  0.154230  0.155071  0.155624  0.156504  0.156859  0.156634   \n",
              "\n",
              "        950  \n",
              "0  0.153929  \n",
              "1  0.156727  \n",
              "2  0.154485  \n",
              "3  0.157824  \n",
              "4  0.156176  \n",
              "\n",
              "[5 rows x 129 columns]"
            ],
            "text/html": [
              "\n",
              "  <div id=\"df-0224b609-28c7-449b-bb02-cb24d7f748eb\">\n",
              "    <div class=\"colab-df-container\">\n",
              "      <div>\n",
              "<style scoped>\n",
              "    .dataframe tbody tr th:only-of-type {\n",
              "        vertical-align: middle;\n",
              "    }\n",
              "\n",
              "    .dataframe tbody tr th {\n",
              "        vertical-align: top;\n",
              "    }\n",
              "\n",
              "    .dataframe thead th {\n",
              "        text-align: right;\n",
              "    }\n",
              "</style>\n",
              "<table border=\"1\" class=\"dataframe\">\n",
              "  <thead>\n",
              "    <tr style=\"text-align: right;\">\n",
              "      <th></th>\n",
              "      <th>index</th>\n",
              "      <th>datetime</th>\n",
              "      <th>soil_moisture</th>\n",
              "      <th>soil_temperature</th>\n",
              "      <th>454</th>\n",
              "      <th>458</th>\n",
              "      <th>462</th>\n",
              "      <th>466</th>\n",
              "      <th>470</th>\n",
              "      <th>474</th>\n",
              "      <th>...</th>\n",
              "      <th>914</th>\n",
              "      <th>918</th>\n",
              "      <th>922</th>\n",
              "      <th>926</th>\n",
              "      <th>930</th>\n",
              "      <th>934</th>\n",
              "      <th>938</th>\n",
              "      <th>942</th>\n",
              "      <th>946</th>\n",
              "      <th>950</th>\n",
              "    </tr>\n",
              "  </thead>\n",
              "  <tbody>\n",
              "    <tr>\n",
              "      <th>0</th>\n",
              "      <td>0</td>\n",
              "      <td>2017-05-23 14:06:17</td>\n",
              "      <td>0.471176</td>\n",
              "      <td>0.405797</td>\n",
              "      <td>0.082131</td>\n",
              "      <td>0.055863</td>\n",
              "      <td>0.050047</td>\n",
              "      <td>0.047925</td>\n",
              "      <td>0.047498</td>\n",
              "      <td>0.046464</td>\n",
              "      <td>...</td>\n",
              "      <td>0.152845</td>\n",
              "      <td>0.152615</td>\n",
              "      <td>0.152927</td>\n",
              "      <td>0.154240</td>\n",
              "      <td>0.155018</td>\n",
              "      <td>0.154725</td>\n",
              "      <td>0.154682</td>\n",
              "      <td>0.154275</td>\n",
              "      <td>0.153477</td>\n",
              "      <td>0.153929</td>\n",
              "    </tr>\n",
              "    <tr>\n",
              "      <th>1</th>\n",
              "      <td>1</td>\n",
              "      <td>2017-05-23 14:08:17</td>\n",
              "      <td>0.470000</td>\n",
              "      <td>0.425121</td>\n",
              "      <td>0.079510</td>\n",
              "      <td>0.055326</td>\n",
              "      <td>0.049116</td>\n",
              "      <td>0.047579</td>\n",
              "      <td>0.046745</td>\n",
              "      <td>0.046833</td>\n",
              "      <td>...</td>\n",
              "      <td>0.152715</td>\n",
              "      <td>0.153102</td>\n",
              "      <td>0.153551</td>\n",
              "      <td>0.153590</td>\n",
              "      <td>0.153688</td>\n",
              "      <td>0.153370</td>\n",
              "      <td>0.154021</td>\n",
              "      <td>0.155543</td>\n",
              "      <td>0.156220</td>\n",
              "      <td>0.156727</td>\n",
              "    </tr>\n",
              "    <tr>\n",
              "      <th>2</th>\n",
              "      <td>2</td>\n",
              "      <td>2017-05-23 14:10:17</td>\n",
              "      <td>0.468235</td>\n",
              "      <td>0.434783</td>\n",
              "      <td>0.080599</td>\n",
              "      <td>0.054065</td>\n",
              "      <td>0.049150</td>\n",
              "      <td>0.047537</td>\n",
              "      <td>0.046525</td>\n",
              "      <td>0.046032</td>\n",
              "      <td>...</td>\n",
              "      <td>0.152362</td>\n",
              "      <td>0.152158</td>\n",
              "      <td>0.153204</td>\n",
              "      <td>0.153942</td>\n",
              "      <td>0.154610</td>\n",
              "      <td>0.154629</td>\n",
              "      <td>0.155609</td>\n",
              "      <td>0.155545</td>\n",
              "      <td>0.154884</td>\n",
              "      <td>0.154485</td>\n",
              "    </tr>\n",
              "    <tr>\n",
              "      <th>3</th>\n",
              "      <td>3</td>\n",
              "      <td>2017-05-23 14:12:17</td>\n",
              "      <td>0.460588</td>\n",
              "      <td>0.415459</td>\n",
              "      <td>0.078024</td>\n",
              "      <td>0.054972</td>\n",
              "      <td>0.049052</td>\n",
              "      <td>0.047920</td>\n",
              "      <td>0.046883</td>\n",
              "      <td>0.046775</td>\n",
              "      <td>...</td>\n",
              "      <td>0.153281</td>\n",
              "      <td>0.153990</td>\n",
              "      <td>0.154499</td>\n",
              "      <td>0.155012</td>\n",
              "      <td>0.154691</td>\n",
              "      <td>0.154643</td>\n",
              "      <td>0.155405</td>\n",
              "      <td>0.155918</td>\n",
              "      <td>0.157645</td>\n",
              "      <td>0.157824</td>\n",
              "    </tr>\n",
              "    <tr>\n",
              "      <th>4</th>\n",
              "      <td>4</td>\n",
              "      <td>2017-05-23 14:14:17</td>\n",
              "      <td>0.460000</td>\n",
              "      <td>0.429952</td>\n",
              "      <td>0.079973</td>\n",
              "      <td>0.055335</td>\n",
              "      <td>0.049314</td>\n",
              "      <td>0.047373</td>\n",
              "      <td>0.047028</td>\n",
              "      <td>0.046963</td>\n",
              "      <td>...</td>\n",
              "      <td>0.152803</td>\n",
              "      <td>0.153085</td>\n",
              "      <td>0.153295</td>\n",
              "      <td>0.154230</td>\n",
              "      <td>0.155071</td>\n",
              "      <td>0.155624</td>\n",
              "      <td>0.156504</td>\n",
              "      <td>0.156859</td>\n",
              "      <td>0.156634</td>\n",
              "      <td>0.156176</td>\n",
              "    </tr>\n",
              "  </tbody>\n",
              "</table>\n",
              "<p>5 rows × 129 columns</p>\n",
              "</div>\n",
              "      <button class=\"colab-df-convert\" onclick=\"convertToInteractive('df-0224b609-28c7-449b-bb02-cb24d7f748eb')\"\n",
              "              title=\"Convert this dataframe to an interactive table.\"\n",
              "              style=\"display:none;\">\n",
              "        \n",
              "  <svg xmlns=\"http://www.w3.org/2000/svg\" height=\"24px\"viewBox=\"0 0 24 24\"\n",
              "       width=\"24px\">\n",
              "    <path d=\"M0 0h24v24H0V0z\" fill=\"none\"/>\n",
              "    <path d=\"M18.56 5.44l.94 2.06.94-2.06 2.06-.94-2.06-.94-.94-2.06-.94 2.06-2.06.94zm-11 1L8.5 8.5l.94-2.06 2.06-.94-2.06-.94L8.5 2.5l-.94 2.06-2.06.94zm10 10l.94 2.06.94-2.06 2.06-.94-2.06-.94-.94-2.06-.94 2.06-2.06.94z\"/><path d=\"M17.41 7.96l-1.37-1.37c-.4-.4-.92-.59-1.43-.59-.52 0-1.04.2-1.43.59L10.3 9.45l-7.72 7.72c-.78.78-.78 2.05 0 2.83L4 21.41c.39.39.9.59 1.41.59.51 0 1.02-.2 1.41-.59l7.78-7.78 2.81-2.81c.8-.78.8-2.07 0-2.86zM5.41 20L4 18.59l7.72-7.72 1.47 1.35L5.41 20z\"/>\n",
              "  </svg>\n",
              "      </button>\n",
              "      \n",
              "  <style>\n",
              "    .colab-df-container {\n",
              "      display:flex;\n",
              "      flex-wrap:wrap;\n",
              "      gap: 12px;\n",
              "    }\n",
              "\n",
              "    .colab-df-convert {\n",
              "      background-color: #E8F0FE;\n",
              "      border: none;\n",
              "      border-radius: 50%;\n",
              "      cursor: pointer;\n",
              "      display: none;\n",
              "      fill: #1967D2;\n",
              "      height: 32px;\n",
              "      padding: 0 0 0 0;\n",
              "      width: 32px;\n",
              "    }\n",
              "\n",
              "    .colab-df-convert:hover {\n",
              "      background-color: #E2EBFA;\n",
              "      box-shadow: 0px 1px 2px rgba(60, 64, 67, 0.3), 0px 1px 3px 1px rgba(60, 64, 67, 0.15);\n",
              "      fill: #174EA6;\n",
              "    }\n",
              "\n",
              "    [theme=dark] .colab-df-convert {\n",
              "      background-color: #3B4455;\n",
              "      fill: #D2E3FC;\n",
              "    }\n",
              "\n",
              "    [theme=dark] .colab-df-convert:hover {\n",
              "      background-color: #434B5C;\n",
              "      box-shadow: 0px 1px 3px 1px rgba(0, 0, 0, 0.15);\n",
              "      filter: drop-shadow(0px 1px 2px rgba(0, 0, 0, 0.3));\n",
              "      fill: #FFFFFF;\n",
              "    }\n",
              "  </style>\n",
              "\n",
              "      <script>\n",
              "        const buttonEl =\n",
              "          document.querySelector('#df-0224b609-28c7-449b-bb02-cb24d7f748eb button.colab-df-convert');\n",
              "        buttonEl.style.display =\n",
              "          google.colab.kernel.accessAllowed ? 'block' : 'none';\n",
              "\n",
              "        async function convertToInteractive(key) {\n",
              "          const element = document.querySelector('#df-0224b609-28c7-449b-bb02-cb24d7f748eb');\n",
              "          const dataTable =\n",
              "            await google.colab.kernel.invokeFunction('convertToInteractive',\n",
              "                                                     [key], {});\n",
              "          if (!dataTable) return;\n",
              "\n",
              "          const docLinkHtml = 'Like what you see? Visit the ' +\n",
              "            '<a target=\"_blank\" href=https://colab.research.google.com/notebooks/data_table.ipynb>data table notebook</a>'\n",
              "            + ' to learn more about interactive tables.';\n",
              "          element.innerHTML = '';\n",
              "          dataTable['output_type'] = 'display_data';\n",
              "          await google.colab.output.renderOutput(dataTable, element);\n",
              "          const docLink = document.createElement('div');\n",
              "          docLink.innerHTML = docLinkHtml;\n",
              "          element.appendChild(docLink);\n",
              "        }\n",
              "      </script>\n",
              "    </div>\n",
              "  </div>\n",
              "  "
            ]
          },
          "metadata": {},
          "execution_count": 5
        }
      ]
    },
    {
      "cell_type": "code",
      "source": [
        "scaler = MinMaxScaler()\n",
        "\n",
        "scaler.fit(df[['soil_temperature']])\n",
        "df['soil_temperature'] = scaler.transform(df[['soil_temperature']])\n",
        "\n",
        "scaler.fit(df[['soil_moisture']])\n",
        "df['soil_moisture'] = scaler.transform(df[['soil_moisture']])"
      ],
      "metadata": {
        "id": "aK9hcZnrUuL-"
      },
      "execution_count": null,
      "outputs": []
    },
    {
      "cell_type": "code",
      "source": [
        "plt.scatter(df['soil_temperature'],df['soil_moisture'])"
      ],
      "metadata": {
        "colab": {
          "base_uri": "https://localhost:8080/",
          "height": 282
        },
        "id": "_kfqsD-wVAen",
        "outputId": "fc018dd9-f3aa-4cce-cbcd-bc3e2fe7dda6"
      },
      "execution_count": null,
      "outputs": [
        {
          "output_type": "execute_result",
          "data": {
            "text/plain": [
              "<matplotlib.collections.PathCollection at 0x7fe3f81d6d50>"
            ]
          },
          "metadata": {},
          "execution_count": 6
        },
        {
          "output_type": "display_data",
          "data": {
            "text/plain": [
              "<Figure size 432x288 with 1 Axes>"
            ],
            "image/png": "[encoded data removed]"
          },
          "metadata": {
            "needs_background": "light"
          }
        }
      ]
    },
    {
      "cell_type": "code",
      "source": [
        "plt.scatter(df['soil_moisture'],df['soil_temperature'])"
      ],
      "metadata": {
        "colab": {
          "base_uri": "https://localhost:8080/",
          "height": 282
        },
        "id": "gOS_kRqCVqR2",
        "outputId": "b3baa54e-ec76-482c-8108-1aefc239e82b"
      },
      "execution_count": null,
      "outputs": [
        {
          "output_type": "execute_result",
          "data": {
            "text/plain": [
              "<matplotlib.collections.PathCollection at 0x7fe3f7698d10>"
            ]
          },
          "metadata": {},
          "execution_count": 7
        },
        {
          "output_type": "display_data",
          "data": {
            "text/plain": [
              "<Figure size 432x288 with 1 Axes>"
            ],
            "image/png": "[encoded data removed]"
          },
          "metadata": {
            "needs_background": "light"
          }
        }
      ]
    },
    {
      "cell_type": "code",
      "source": [
        "sse = []\n",
        "k_rng = range(1,10)\n",
        "for k in k_rng:\n",
        "    km = KMeans(n_clusters = k)\n",
        "    km.fit(df[['soil_temperature','soil_moisture']])\n",
        "    sse.append(km.inertia_)"
      ],
      "metadata": {
        "id": "shvg9Ik3Vlrc"
      },
      "execution_count": null,
      "outputs": []
    },
    {
      "cell_type": "code",
      "source": [
        "plt.plot(k_rng,sse)"
      ],
      "metadata": {
        "colab": {
          "base_uri": "https://localhost:8080/",
          "height": 282
        },
        "id": "LttFS1nlWIog",
        "outputId": "c672dc86-a777-4d32-f9ea-e59adbb0bc19"
      },
      "execution_count": null,
      "outputs": [
        {
          "output_type": "execute_result",
          "data": {
            "text/plain": [
              "[<matplotlib.lines.Line2D at 0x7fe3f75c7f90>]"
            ]
          },
          "metadata": {},
          "execution_count": 10
        },
        {
          "output_type": "display_data",
          "data": {
            "text/plain": [
              "<Figure size 432x288 with 1 Axes>"
            ],
            "image/png": "[encoded data removed]"
          },
          "metadata": {
            "needs_background": "light"
          }
        }
      ]
    },
    {
      "cell_type": "code",
      "source": [
        "km = KMeans(n_clusters=5)\n",
        "yp = km.fit_predict(df[['soil_temperature','soil_moisture']])\n",
        "yp\n"
      ],
      "metadata": {
        "colab": {
          "base_uri": "https://localhost:8080/"
        },
        "id": "bnQd2rMsWTVs",
        "outputId": "b7ed2656-486e-422c-8bcc-206aa5a35d88"
      },
      "execution_count": null,
      "outputs": [
        {
          "output_type": "execute_result",
          "data": {
            "text/plain": [
              "array([2, 2, 2, 2, 2, 2, 2, 2, 2, 3, 3, 3, 3, 3, 3, 3, 3, 3, 3, 3, 3, 3,\n",
              "       3, 3, 3, 2, 2, 2, 3, 3, 3, 3, 3, 3, 3, 3, 3, 3, 3, 3, 3, 3, 3, 3,\n",
              "       3, 3, 3, 3, 3, 3, 3, 3, 3, 3, 3, 3, 3, 3, 3, 1, 1, 1, 1, 1, 1, 1,\n",
              "       1, 1, 1, 1, 1, 1, 1, 1, 1, 1, 1, 1, 1, 1, 1, 1, 1, 1, 1, 1, 1, 1,\n",
              "       1, 0, 0, 0, 0, 0, 0, 0, 0, 0, 0, 0, 0, 0, 0, 0, 0, 0, 0, 0, 0, 0,\n",
              "       0, 0, 0, 0, 0, 0, 0, 0, 0, 0, 0, 0, 1, 1, 1, 1, 1, 1, 1, 1, 1, 1,\n",
              "       1, 1, 1, 1, 1, 1, 1, 1, 1, 1, 1, 1, 1, 1, 1, 1, 1, 1, 1, 1, 1, 1,\n",
              "       1, 1, 1, 1, 1, 1, 1, 1, 1, 2, 2, 2, 2, 2, 2, 2, 2, 2, 2, 2, 2, 2,\n",
              "       2, 2, 3, 3, 3, 3, 1, 1, 1, 1, 1, 1, 1, 1, 1, 3, 3, 3, 3, 2, 2, 0,\n",
              "       0, 0, 0, 0, 0, 0, 0, 0, 0, 0, 0, 0, 0, 0, 0, 0, 0, 0, 0, 0, 0, 0,\n",
              "       0, 0, 0, 0, 0, 0, 0, 0, 0, 0, 0, 0, 0, 0, 0, 0, 0, 0, 0, 0, 0, 0,\n",
              "       0, 0, 0, 0, 0, 0, 0, 0, 0, 0, 0, 0, 0, 0, 0, 0, 3, 1, 1, 1, 1, 1,\n",
              "       1, 1, 1, 1, 1, 1, 1, 1, 1, 1, 1, 1, 1, 1, 1, 1, 1, 1, 1, 1, 1, 1,\n",
              "       1, 1, 2, 2, 2, 2, 2, 3, 3, 3, 3, 3, 2, 2, 2, 2, 2, 2, 2, 2, 2, 2,\n",
              "       2, 2, 2, 2, 2, 2, 2, 2, 2, 2, 0, 0, 0, 0, 0, 0, 0, 0, 0, 0, 0, 0,\n",
              "       0, 0, 0, 0, 0, 0, 0, 0, 0, 0, 0, 0, 0, 0, 0, 0, 0, 0, 4, 4, 4, 4,\n",
              "       4, 4, 4, 4, 4, 4, 4, 4, 4, 4, 4, 4, 4, 4, 0, 0, 0, 0, 0, 0, 0, 0,\n",
              "       0, 0, 0, 0, 2, 2, 2, 2, 2, 2, 2, 2, 2, 2, 2, 2, 2, 2, 2, 2, 2, 2,\n",
              "       2, 2, 2, 3, 3, 3, 3, 3, 3, 3, 3, 3, 3, 3, 3, 3, 3, 3, 3, 3, 3, 3,\n",
              "       3, 3, 3, 3, 3, 3, 3, 3, 3, 3, 3, 3, 3, 3, 3, 3, 3, 3, 3, 3, 4, 4,\n",
              "       4, 4, 4, 4, 4, 4, 4, 4, 4, 4, 4, 4, 4, 4, 4, 4, 4, 4, 4, 4, 4, 4,\n",
              "       4, 4, 4, 4, 4, 4, 3, 3, 3, 3, 3, 3, 3, 3, 3, 3, 3, 3, 3, 3, 3, 3,\n",
              "       3, 3, 3, 3, 4, 4, 4, 4, 4, 4, 4, 4, 4, 4, 4, 2, 2, 2, 2, 2, 2, 3,\n",
              "       3, 2, 2, 3, 3, 3, 3, 3, 3, 3, 3, 3, 3, 3, 3, 3, 3, 3, 3, 3, 3, 3,\n",
              "       3, 0, 0, 0, 0, 0, 0, 0, 0, 0, 0, 0, 0, 0, 0, 0, 0, 0, 0, 0, 0, 0,\n",
              "       0, 0, 0, 0, 0, 0, 0, 0, 0, 1, 1, 1, 1, 1, 1, 1, 1, 1, 1, 1, 1, 1,\n",
              "       1, 1, 1, 1, 1, 2, 2, 2, 2, 2, 2, 2, 2, 2, 2, 2, 2, 2, 2, 2, 2, 2,\n",
              "       2, 2, 2, 2, 2, 2, 2, 2, 2, 2, 2, 2, 2, 2, 2, 2, 2, 2, 2, 2, 2, 2,\n",
              "       2, 2, 2, 2, 2, 2, 2, 2, 2, 2, 4, 4, 4, 4, 4, 4, 4, 4, 4, 4, 4, 4,\n",
              "       4, 4, 4, 4, 4, 4, 4, 4, 4, 4, 4, 4, 4, 4, 4, 4, 4, 4, 4, 4, 4, 4,\n",
              "       4, 4, 4, 4, 4, 4, 4, 4, 4, 4, 4, 4, 4, 4, 4, 4, 4, 4, 4],\n",
              "      dtype=int32)"
            ]
          },
          "metadata": {},
          "execution_count": 19
        }
      ]
    },
    {
      "cell_type": "code",
      "source": [
        "df['cluster']=yp\n",
        "df.head()"
      ],
      "metadata": {
        "colab": {
          "base_uri": "https://localhost:8080/",
          "height": 473
        },
        "id": "31kYzsRdXZYV",
        "outputId": "5cc6045b-19d2-4925-c9bc-960a9b75771b"
      },
      "execution_count": null,
      "outputs": [
        {
          "output_type": "execute_result",
          "data": {
            "text/plain": [
              "   index             datetime  soil_moisture  soil_temperature       454  \\\n",
              "0      0  2017-05-23 14:06:17       0.471176          0.405797  0.082131   \n",
              "1      1  2017-05-23 14:08:17       0.470000          0.425121  0.079510   \n",
              "2      2  2017-05-23 14:10:17       0.468235          0.434783  0.080599   \n",
              "3      3  2017-05-23 14:12:17       0.460588          0.415459  0.078024   \n",
              "4      4  2017-05-23 14:14:17       0.460000          0.429952  0.079973   \n",
              "\n",
              "        458       462       466       470       474  ...       918       922  \\\n",
              "0  0.055863  0.050047  0.047925  0.047498  0.046464  ...  0.152615  0.152927   \n",
              "1  0.055326  0.049116  0.047579  0.046745  0.046833  ...  0.153102  0.153551   \n",
              "2  0.054065  0.049150  0.047537  0.046525  0.046032  ...  0.152158  0.153204   \n",
              "3  0.054972  0.049052  0.047920  0.046883  0.046775  ...  0.153990  0.154499   \n",
              "4  0.055335  0.049314  0.047373  0.047028  0.046963  ...  0.153085  0.153295   \n",
              "\n",
              "        926       930       934       938       942       946       950  \\\n",
              "0  0.154240  0.155018  0.154725  0.154682  0.154275  0.153477  0.153929   \n",
              "1  0.153590  0.153688  0.153370  0.154021  0.155543  0.156220  0.156727   \n",
              "2  0.153942  0.154610  0.154629  0.155609  0.155545  0.154884  0.154485   \n",
              "3  0.155012  0.154691  0.154643  0.155405  0.155918  0.157645  0.157824   \n",
              "4  0.154230  0.155071  0.155624  0.156504  0.156859  0.156634  0.156176   \n",
              "\n",
              "   cluster  \n",
              "0        3  \n",
              "1        3  \n",
              "2        3  \n",
              "3        3  \n",
              "4        3  \n",
              "\n",
              "[5 rows x 130 columns]"
            ],
            "text/html": [
              "\n",
              "  <div id=\"df-208a0cc8-b3a8-4013-9c4f-44b12ebb9f89\">\n",
              "    <div class=\"colab-df-container\">\n",
              "      <div>\n",
              "<style scoped>\n",
              "    .dataframe tbody tr th:only-of-type {\n",
              "        vertical-align: middle;\n",
              "    }\n",
              "\n",
              "    .dataframe tbody tr th {\n",
              "        vertical-align: top;\n",
              "    }\n",
              "\n",
              "    .dataframe thead th {\n",
              "        text-align: right;\n",
              "    }\n",
              "</style>\n",
              "<table border=\"1\" class=\"dataframe\">\n",
              "  <thead>\n",
              "    <tr style=\"text-align: right;\">\n",
              "      <th></th>\n",
              "      <th>index</th>\n",
              "      <th>datetime</th>\n",
              "      <th>soil_moisture</th>\n",
              "      <th>soil_temperature</th>\n",
              "      <th>454</th>\n",
              "      <th>458</th>\n",
              "      <th>462</th>\n",
              "      <th>466</th>\n",
              "      <th>470</th>\n",
              "      <th>474</th>\n",
              "      <th>...</th>\n",
              "      <th>918</th>\n",
              "      <th>922</th>\n",
              "      <th>926</th>\n",
              "      <th>930</th>\n",
              "      <th>934</th>\n",
              "      <th>938</th>\n",
              "      <th>942</th>\n",
              "      <th>946</th>\n",
              "      <th>950</th>\n",
              "      <th>cluster</th>\n",
              "    </tr>\n",
              "  </thead>\n",
              "  <tbody>\n",
              "    <tr>\n",
              "      <th>0</th>\n",
              "      <td>0</td>\n",
              "      <td>2017-05-23 14:06:17</td>\n",
              "      <td>0.471176</td>\n",
              "      <td>0.405797</td>\n",
              "      <td>0.082131</td>\n",
              "      <td>0.055863</td>\n",
              "      <td>0.050047</td>\n",
              "      <td>0.047925</td>\n",
              "      <td>0.047498</td>\n",
              "      <td>0.046464</td>\n",
              "      <td>...</td>\n",
              "      <td>0.152615</td>\n",
              "      <td>0.152927</td>\n",
              "      <td>0.154240</td>\n",
              "      <td>0.155018</td>\n",
              "      <td>0.154725</td>\n",
              "      <td>0.154682</td>\n",
              "      <td>0.154275</td>\n",
              "      <td>0.153477</td>\n",
              "      <td>0.153929</td>\n",
              "      <td>3</td>\n",
              "    </tr>\n",
              "    <tr>\n",
              "      <th>1</th>\n",
              "      <td>1</td>\n",
              "      <td>2017-05-23 14:08:17</td>\n",
              "      <td>0.470000</td>\n",
              "      <td>0.425121</td>\n",
              "      <td>0.079510</td>\n",
              "      <td>0.055326</td>\n",
              "      <td>0.049116</td>\n",
              "      <td>0.047579</td>\n",
              "      <td>0.046745</td>\n",
              "      <td>0.046833</td>\n",
              "      <td>...</td>\n",
              "      <td>0.153102</td>\n",
              "      <td>0.153551</td>\n",
              "      <td>0.153590</td>\n",
              "      <td>0.153688</td>\n",
              "      <td>0.153370</td>\n",
              "      <td>0.154021</td>\n",
              "      <td>0.155543</td>\n",
              "      <td>0.156220</td>\n",
              "      <td>0.156727</td>\n",
              "      <td>3</td>\n",
              "    </tr>\n",
              "    <tr>\n",
              "      <th>2</th>\n",
              "      <td>2</td>\n",
              "      <td>2017-05-23 14:10:17</td>\n",
              "      <td>0.468235</td>\n",
              "      <td>0.434783</td>\n",
              "      <td>0.080599</td>\n",
              "      <td>0.054065</td>\n",
              "      <td>0.049150</td>\n",
              "      <td>0.047537</td>\n",
              "      <td>0.046525</td>\n",
              "      <td>0.046032</td>\n",
              "      <td>...</td>\n",
              "      <td>0.152158</td>\n",
              "      <td>0.153204</td>\n",
              "      <td>0.153942</td>\n",
              "      <td>0.154610</td>\n",
              "      <td>0.154629</td>\n",
              "      <td>0.155609</td>\n",
              "      <td>0.155545</td>\n",
              "      <td>0.154884</td>\n",
              "      <td>0.154485</td>\n",
              "      <td>3</td>\n",
              "    </tr>\n",
              "    <tr>\n",
              "      <th>3</th>\n",
              "      <td>3</td>\n",
              "      <td>2017-05-23 14:12:17</td>\n",
              "      <td>0.460588</td>\n",
              "      <td>0.415459</td>\n",
              "      <td>0.078024</td>\n",
              "      <td>0.054972</td>\n",
              "      <td>0.049052</td>\n",
              "      <td>0.047920</td>\n",
              "      <td>0.046883</td>\n",
              "      <td>0.046775</td>\n",
              "      <td>...</td>\n",
              "      <td>0.153990</td>\n",
              "      <td>0.154499</td>\n",
              "      <td>0.155012</td>\n",
              "      <td>0.154691</td>\n",
              "      <td>0.154643</td>\n",
              "      <td>0.155405</td>\n",
              "      <td>0.155918</td>\n",
              "      <td>0.157645</td>\n",
              "      <td>0.157824</td>\n",
              "      <td>3</td>\n",
              "    </tr>\n",
              "    <tr>\n",
              "      <th>4</th>\n",
              "      <td>4</td>\n",
              "      <td>2017-05-23 14:14:17</td>\n",
              "      <td>0.460000</td>\n",
              "      <td>0.429952</td>\n",
              "      <td>0.079973</td>\n",
              "      <td>0.055335</td>\n",
              "      <td>0.049314</td>\n",
              "      <td>0.047373</td>\n",
              "      <td>0.047028</td>\n",
              "      <td>0.046963</td>\n",
              "      <td>...</td>\n",
              "      <td>0.153085</td>\n",
              "      <td>0.153295</td>\n",
              "      <td>0.154230</td>\n",
              "      <td>0.155071</td>\n",
              "      <td>0.155624</td>\n",
              "      <td>0.156504</td>\n",
              "      <td>0.156859</td>\n",
              "      <td>0.156634</td>\n",
              "      <td>0.156176</td>\n",
              "      <td>3</td>\n",
              "    </tr>\n",
              "  </tbody>\n",
              "</table>\n",
              "<p>5 rows × 130 columns</p>\n",
              "</div>\n",
              "      <button class=\"colab-df-convert\" onclick=\"convertToInteractive('df-208a0cc8-b3a8-4013-9c4f-44b12ebb9f89')\"\n",
              "              title=\"Convert this dataframe to an interactive table.\"\n",
              "              style=\"display:none;\">\n",
              "        \n",
              "  <svg xmlns=\"http://www.w3.org/2000/svg\" height=\"24px\"viewBox=\"0 0 24 24\"\n",
              "       width=\"24px\">\n",
              "    <path d=\"M0 0h24v24H0V0z\" fill=\"none\"/>\n",
              "    <path d=\"M18.56 5.44l.94 2.06.94-2.06 2.06-.94-2.06-.94-.94-2.06-.94 2.06-2.06.94zm-11 1L8.5 8.5l.94-2.06 2.06-.94-2.06-.94L8.5 2.5l-.94 2.06-2.06.94zm10 10l.94 2.06.94-2.06 2.06-.94-2.06-.94-.94-2.06-.94 2.06-2.06.94z\"/><path d=\"M17.41 7.96l-1.37-1.37c-.4-.4-.92-.59-1.43-.59-.52 0-1.04.2-1.43.59L10.3 9.45l-7.72 7.72c-.78.78-.78 2.05 0 2.83L4 21.41c.39.39.9.59 1.41.59.51 0 1.02-.2 1.41-.59l7.78-7.78 2.81-2.81c.8-.78.8-2.07 0-2.86zM5.41 20L4 18.59l7.72-7.72 1.47 1.35L5.41 20z\"/>\n",
              "  </svg>\n",
              "      </button>\n",
              "      \n",
              "  <style>\n",
              "    .colab-df-container {\n",
              "      display:flex;\n",
              "      flex-wrap:wrap;\n",
              "      gap: 12px;\n",
              "    }\n",
              "\n",
              "    .colab-df-convert {\n",
              "      background-color: #E8F0FE;\n",
              "      border: none;\n",
              "      border-radius: 50%;\n",
              "      cursor: pointer;\n",
              "      display: none;\n",
              "      fill: #1967D2;\n",
              "      height: 32px;\n",
              "      padding: 0 0 0 0;\n",
              "      width: 32px;\n",
              "    }\n",
              "\n",
              "    .colab-df-convert:hover {\n",
              "      background-color: #E2EBFA;\n",
              "      box-shadow: 0px 1px 2px rgba(60, 64, 67, 0.3), 0px 1px 3px 1px rgba(60, 64, 67, 0.15);\n",
              "      fill: #174EA6;\n",
              "    }\n",
              "\n",
              "    [theme=dark] .colab-df-convert {\n",
              "      background-color: #3B4455;\n",
              "      fill: #D2E3FC;\n",
              "    }\n",
              "\n",
              "    [theme=dark] .colab-df-convert:hover {\n",
              "      background-color: #434B5C;\n",
              "      box-shadow: 0px 1px 3px 1px rgba(0, 0, 0, 0.15);\n",
              "      filter: drop-shadow(0px 1px 2px rgba(0, 0, 0, 0.3));\n",
              "      fill: #FFFFFF;\n",
              "    }\n",
              "  </style>\n",
              "\n",
              "      <script>\n",
              "        const buttonEl =\n",
              "          document.querySelector('#df-208a0cc8-b3a8-4013-9c4f-44b12ebb9f89 button.colab-df-convert');\n",
              "        buttonEl.style.display =\n",
              "          google.colab.kernel.accessAllowed ? 'block' : 'none';\n",
              "\n",
              "        async function convertToInteractive(key) {\n",
              "          const element = document.querySelector('#df-208a0cc8-b3a8-4013-9c4f-44b12ebb9f89');\n",
              "          const dataTable =\n",
              "            await google.colab.kernel.invokeFunction('convertToInteractive',\n",
              "                                                     [key], {});\n",
              "          if (!dataTable) return;\n",
              "\n",
              "          const docLinkHtml = 'Like what you see? Visit the ' +\n",
              "            '<a target=\"_blank\" href=https://colab.research.google.com/notebooks/data_table.ipynb>data table notebook</a>'\n",
              "            + ' to learn more about interactive tables.';\n",
              "          element.innerHTML = '';\n",
              "          dataTable['output_type'] = 'display_data';\n",
              "          await google.colab.output.renderOutput(dataTable, element);\n",
              "          const docLink = document.createElement('div');\n",
              "          docLink.innerHTML = docLinkHtml;\n",
              "          element.appendChild(docLink);\n",
              "        }\n",
              "      </script>\n",
              "    </div>\n",
              "  </div>\n",
              "  "
            ]
          },
          "metadata": {},
          "execution_count": 14
        }
      ]
    },
    {
      "cell_type": "code",
      "source": [
        "df1 = df[df.cluster==0]\n",
        "df2 = df[df.cluster==1]\n",
        "df3 = df[df.cluster==2]\n",
        "df4 = df[df.cluster==3]\n",
        "df5 = df[df.cluster==4]\n",
        "\n",
        "\n"
      ],
      "metadata": {
        "id": "p0c3_RHKXgvs"
      },
      "execution_count": null,
      "outputs": []
    },
    {
      "cell_type": "code",
      "source": [
        "plt.scatter(km.cluster_centers_[:,0],km.cluster_centers_[:,1],color='purple',marker='*',label='centroid')"
      ],
      "metadata": {
        "colab": {
          "base_uri": "https://localhost:8080/",
          "height": 282
        },
        "id": "h5tCxTJ0Xx4j",
        "outputId": "5d67474e-c818-4fe0-f387-efc512dd2f23"
      },
      "execution_count": null,
      "outputs": [
        {
          "output_type": "execute_result",
          "data": {
            "text/plain": [
              "<matplotlib.collections.PathCollection at 0x7fe3f22c4750>"
            ]
          },
          "metadata": {},
          "execution_count": 23
        },
        {
          "output_type": "display_data",
          "data": {
            "text/plain": [
              "<Figure size 432x288 with 1 Axes>"
            ],
            "image/png": "[encoded data removed]"
          },
          "metadata": {
            "needs_background": "light"
          }
        }
      ]
    },
    {
      "cell_type": "code",
      "source": [
        "plt.scatter(df1.soil_temperature,df1.soil_moisture,color='green')\n",
        "plt.scatter(df2.soil_temperature,df2.soil_moisture,color='blue')\n",
        "plt.scatter(df3.soil_temperature,df3.soil_moisture,color='yellow')\n",
        "plt.scatter(df4.soil_temperature,df4.soil_moisture,color='red')\n",
        "plt.scatter(df5.soil_temperature,df5.soil_moisture,color='black')"
      ],
      "metadata": {
        "colab": {
          "base_uri": "https://localhost:8080/",
          "height": 282
        },
        "id": "f7JR_hj8YGDj",
        "outputId": "7891aed4-139d-4867-80d5-15cf217ce044"
      },
      "execution_count": null,
      "outputs": [
        {
          "output_type": "execute_result",
          "data": {
            "text/plain": [
              "<matplotlib.collections.PathCollection at 0x7fe3f20a8e10>"
            ]
          },
          "metadata": {},
          "execution_count": 26
        },
        {
          "output_type": "display_data",
          "data": {
            "text/plain": [
              "<Figure size 432x288 with 1 Axes>"
            ],
            "image/png": "[encoded data removed]"
          },
          "metadata": {
            "needs_background": "light"
          }
        }
      ]
    }
  ]
}